{
 "cells": [
  {
   "cell_type": "code",
   "execution_count": 2,
   "metadata": {},
   "outputs": [],
   "source": [
    "from query_process import preprocess_query, Query_processor\n",
    "import faiss\n",
    "import numpy as np\n",
    "import pickle\n",
    "import os\n"
   ]
  },
  {
   "cell_type": "code",
   "execution_count": 3,
   "metadata": {},
   "outputs": [
    {
     "name": "stdout",
     "output_type": "stream",
     "text": [
      "1963\n"
     ]
    }
   ],
   "source": [
    "index_path = os.path.abspath(\"../../data/processed_texts/vector_index.bin\")\n",
    "sentences_path = os.path.abspath(\"../../data/processed_texts/sentences.pkl\")\n",
    "index = faiss.read_index(index_path)\n",
    "sentences = pickle.load(open(sentences_path, \"rb\"))\n",
    "\n",
    "print(index.ntotal)\n"
   ]
  },
  {
   "cell_type": "code",
   "execution_count": 6,
   "metadata": {},
   "outputs": [
    {
     "name": "stdout",
     "output_type": "stream",
     "text": [
      "(768,)\n"
     ]
    }
   ],
   "source": [
    "query = \"how can i find a accommodation?\"\n",
    "query_processed = preprocess_query(query) \n",
    "query_vector = Query_processor.encode(query_processed)\n",
    "print(query_vector.shape)\n"
   ]
  },
  {
   "cell_type": "code",
   "execution_count": 7,
   "metadata": {},
   "outputs": [
    {
     "name": "stdout",
     "output_type": "stream",
     "text": [
      "Top k documents retrieved:\n",
      "1.best for finding your private accommodation.Score: 0.2258\n",
      "2.find any type like independent, shared, home-stay or hostels.Score: 0.2462\n",
      "3.however, here are a few steps that might help you finding an accommodation: book temporary accommodation on airbnb or hostels website or uni accommodation before arriving in australia.Score: 0.2491\n",
      "4.you can also find shared accommodation on this website.Score: 0.3037\n",
      "5.accommodation details make sure you have the address of where you will be staying as well as their phone number and payment confirmation.Score: 0.3041\n"
     ]
    }
   ],
   "source": [
    "query_vector = np.array([query_vector], dtype=np.float32)\n",
    "k = 5\n",
    "distances, indices = index.search(query_vector, k)\n",
    "\n",
    "print('Top k documents retrieved:')\n",
    "for i, idx in enumerate(indices[0]):\n",
    "    print(f'{i+1}.{sentences[idx]}Score: {distances[0][i]:.4f}')"
   ]
  },
  {
   "cell_type": "code",
   "execution_count": null,
   "metadata": {},
   "outputs": [],
   "source": []
  }
 ],
 "metadata": {
  "kernelspec": {
   "display_name": "9517",
   "language": "python",
   "name": "python3"
  },
  "language_info": {
   "codemirror_mode": {
    "name": "ipython",
    "version": 3
   },
   "file_extension": ".py",
   "mimetype": "text/x-python",
   "name": "python",
   "nbconvert_exporter": "python",
   "pygments_lexer": "ipython3",
   "version": "3.10.14"
  }
 },
 "nbformat": 4,
 "nbformat_minor": 2
}
